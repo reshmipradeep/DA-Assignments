{
 "cells": [
  {
   "cell_type": "markdown",
   "metadata": {},
   "source": [
    "UE20CS312 - Data Analytics - Assignment 5"
   ]
  },
  {
   "cell_type": "markdown",
   "metadata": {},
   "source": [
    "*Reshmi Pradeep, Dept. of CSE - PES2UG20CS270*"
   ]
  },
  {
   "cell_type": "markdown",
   "metadata": {
    "id": "lRdDbRiYoYPy"
   },
   "source": [
    "**PROBLEM 1**"
   ]
  },
  {
   "cell_type": "markdown",
   "metadata": {
    "id": "n9k03CDKofje"
   },
   "source": [
    "1) Pij to the nth power or get general formula from eigen values of transition matrix."
   ]
  },
  {
   "cell_type": "code",
   "execution_count": 1,
   "metadata": {
    "id": "rsBMPVR5zz5S"
   },
   "outputs": [],
   "source": [
    "import numpy as np\n",
    "import pandas as pd"
   ]
  },
  {
   "cell_type": "code",
   "execution_count": 2,
   "metadata": {
    "id": "Ds6MlkOAz3kr"
   },
   "outputs": [],
   "source": [
    "\n",
    "t_array = np.array([\n",
    "    [0.002, 0.666, 0.31, 0, 0.022],\n",
    "    [0.466, 0.102, 0.222, 0, 0.21],\n",
    "    [0.022, 0.11, 0.502, 0, 0.366],\n",
    "    [0, 0, 0, 1, 0],\n",
    "    [0.11, 0.122, 0.066, 0, 0.702]\n",
    "])\n",
    "\n",
    "assert(t_array[0].sum() == 1.0)\n",
    "assert(t_array[1].sum() == 1.0)\n",
    "assert(t_array[2].sum() == 1.0)\n",
    "assert(t_array[3].sum() == 1.0)\n",
    "assert(t_array[4].sum() == 1.0)\n",
    "\n",
    "\n",
    "\n",
    "# encoding the initial probability of as a numpy array\n",
    "result = np.array([[0.3, 0.4, 0.1, 0.15, 0.05]])\n",
    "assert(result[0].sum() == 1.0)"
   ]
  },
  {
   "cell_type": "code",
   "execution_count": 3,
   "metadata": {
    "id": "rU9vaUQunf4b"
   },
   "outputs": [],
   "source": [
    "matrix_D=np.array([0.3,0.4,0.1,0.15,0.05])\n",
    "matrix_E=np.array([\n",
    "    [0.002, 0.666, 0.31, 0, 0.022],\n",
    "    [0.466, 0.102, 0.222, 0, 0.21],\n",
    "    [0.022, 0.11, 0.502, 0, 0.366],\n",
    "    [0, 0, 0, 1, 0],\n",
    "    [0.11, 0.122, 0.066, 0, 0.702]\n",
    "])\n"
   ]
  },
  {
   "cell_type": "code",
   "execution_count": 4,
   "metadata": {
    "colab": {
     "base_uri": "https://localhost:8080/"
    },
    "id": "Uuaq8cAzrO6O",
    "outputId": "b532bbc7-c287-4635-9586-90ab5b81f951"
   },
   "outputs": [
    {
     "data": {
      "text/plain": [
       "array([0.1947, 0.2577, 0.2353, 0.15  , 0.1623])"
      ]
     },
     "execution_count": 4,
     "metadata": {},
     "output_type": "execute_result"
    }
   ],
   "source": [
    "matrix_F=np.dot(matrix_D,matrix_E)\n",
    "matrix_F"
   ]
  },
  {
   "cell_type": "markdown",
   "metadata": {
    "id": "hfYmu-pnsHEK"
   },
   "source": [
    "2) Because state 4 is a trap state and we cannot travel from it to any other state, the Markov Chain is ***reducible***.\n",
    "If all of the states I j interact, the chain is irreducible."
   ]
  },
  {
   "cell_type": "markdown",
   "metadata": {
    "id": "GtrKmgHK0Rya"
   },
   "source": [
    "3) What will be the intital probability of a person going to a particular unit after 1 day, 2 days, 10 days, 1000 days and 1001 days."
   ]
  },
  {
   "cell_type": "code",
   "execution_count": 5,
   "metadata": {
    "colab": {
     "base_uri": "https://localhost:8080/"
    },
    "id": "aHJtDwMTto2f",
    "outputId": "8ab726b7-abd8-4173-ad51-9a6a03f6df8a"
   },
   "outputs": [
    {
     "data": {
      "text/plain": [
       "array([0.1947, 0.2577, 0.2353, 0.15  , 0.1623])"
      ]
     },
     "execution_count": 5,
     "metadata": {},
     "output_type": "execute_result"
    }
   ],
   "source": [
    "\n",
    "matrix_F=np.dot(matrix_D,matrix_E)\n",
    "matrix_F"
   ]
  },
  {
   "cell_type": "code",
   "execution_count": 6,
   "metadata": {
    "colab": {
     "base_uri": "https://localhost:8080/"
    },
    "id": "vIsH3m4ks0LG",
    "outputId": "3064bd59-71ef-49b5-8647-33891ef4743e"
   },
   "outputs": [
    {
     "data": {
      "text/plain": [
       "array([0.1435072, 0.2016392, 0.2463988, 0.15     , 0.2584548])"
      ]
     },
     "execution_count": 6,
     "metadata": {},
     "output_type": "execute_result"
    }
   ],
   "source": [
    "\n",
    "matrix_F=matrix_D\n",
    "for i in range(2):\n",
    "  matrix_F=np.dot(matrix_F,matrix_E)\n",
    "matrix_F"
   ]
  },
  {
   "cell_type": "code",
   "execution_count": 7,
   "metadata": {
    "colab": {
     "base_uri": "https://localhost:8080/"
    },
    "id": "td3hmeI5tMas",
    "outputId": "43b68c42-1421-4779-ab49-0e7f090c59c8"
   },
   "outputs": [
    {
     "data": {
      "text/plain": [
       "array([0.1214373 , 0.16411091, 0.19739717, 0.15      , 0.36705462])"
      ]
     },
     "execution_count": 7,
     "metadata": {},
     "output_type": "execute_result"
    }
   ],
   "source": [
    "\n",
    "matrix_F=matrix_D\n",
    "for i in range(1000):\n",
    "  matrix_F=np.dot(matrix_F,matrix_E)\n",
    "matrix_F"
   ]
  },
  {
   "cell_type": "code",
   "execution_count": 8,
   "metadata": {
    "colab": {
     "base_uri": "https://localhost:8080/"
    },
    "id": "OAKPrv0QtR89",
    "outputId": "76f280a2-bda0-4b0f-f5e0-9e23fe5a9d2f"
   },
   "outputs": [
    {
     "data": {
      "text/plain": [
       "array([0.1214373 , 0.16411091, 0.19739717, 0.15      , 0.36705462])"
      ]
     },
     "execution_count": 8,
     "metadata": {},
     "output_type": "execute_result"
    }
   ],
   "source": [
    "\n",
    "matrix_F=matrix_D\n",
    "for i in range(1001):\n",
    "  matrix_F=np.dot(matrix_F,matrix_E)\n",
    "matrix_F"
   ]
  },
  {
   "cell_type": "markdown",
   "metadata": {
    "id": "B3MV2FIV0OPO"
   },
   "source": [
    "4) We observe that the probabilities of a person going to a unit after 1000 days is equal to that after 1001 days, i.e it has reached steady state distribution."
   ]
  },
  {
   "cell_type": "markdown",
   "metadata": {
    "id": "8SM_kSXxR7lI"
   },
   "source": [
    "PROBLEM **2**"
   ]
  },
  {
   "cell_type": "markdown",
   "metadata": {
    "id": "pxUooIrDR9pJ"
   },
   "source": [
    "1) The chain is reducible because the 3rd and 4th states cannot be reached from other states directly or indirectly."
   ]
  },
  {
   "cell_type": "code",
   "execution_count": 9,
   "metadata": {
    "id": "h1NtxGHkSRCj"
   },
   "outputs": [],
   "source": [
    "\n",
    "t_array = np.array([\n",
    "    [0.002, 0.666, 0.01, 0.020, 0.302],\n",
    "    [0.466, 0.102, 0.02, 0.032, 0.38],\n",
    "    [0.0, 0.0, 1, 0.0, 0.0],\n",
    "    [0, 0, 0, 1, 0],\n",
    "    [0.11, 0.122, 0.066, 0.004, 0.698]\n",
    "])\n",
    "\n",
    "assert(t_array[0].sum() == 1.0)\n",
    "assert(t_array[1].sum() == 1.0)\n",
    "assert(t_array[2].sum() == 1.0)\n",
    "assert(t_array[3].sum() == 1.0)\n",
    "assert(t_array[4].sum() == 1.0)\n",
    "\n",
    "\n",
    "result= np.array([[0.3, 0.4, 0.1, 0.15, 0.05]])\n",
    "assert(result[0].sum() == 1.0)"
   ]
  },
  {
   "cell_type": "code",
   "execution_count": 10,
   "metadata": {
    "id": "H3Ur-djOSXpT"
   },
   "outputs": [],
   "source": [
    "#2)\n",
    "matrix_D = np.array([[0.3, 0.4, 0.1, 0.15, 0.05]])\n",
    "\n",
    "matrix_E=np.array([\n",
    "    [0.002, 0.666, 0.01, 0.020, 0.302],\n",
    "    [0.466, 0.102, 0.02, 0.032, 0.38],\n",
    "    [0.0, 0.0, 1, 0.0, 0.0],\n",
    "    [0, 0, 0, 1, 0],\n",
    "    [0.11, 0.122, 0.066, 0.004, 0.698]\n",
    "])"
   ]
  },
  {
   "cell_type": "code",
   "execution_count": 11,
   "metadata": {
    "colab": {
     "base_uri": "https://localhost:8080/"
    },
    "id": "DbnJK57dT4M4",
    "outputId": "cc5252c3-3bce-4998-9328-e4af3087c71b"
   },
   "outputs": [
    {
     "data": {
      "text/plain": [
       "array([[0.1925, 0.2467, 0.1143, 0.169 , 0.2775]])"
      ]
     },
     "execution_count": 11,
     "metadata": {},
     "output_type": "execute_result"
    }
   ],
   "source": [
    "#after 1 day\n",
    "matrix_F=np.dot(matrix_D,matrix_E)\n",
    "matrix_F"
   ]
  },
  {
   "cell_type": "code",
   "execution_count": 12,
   "metadata": {
    "colab": {
     "base_uri": "https://localhost:8080/"
    },
    "id": "UV2GqMsUT4M5",
    "outputId": "c75a41ff-9ded-4d7d-f538-556831d15d33"
   },
   "outputs": [
    {
     "data": {
      "text/plain": [
       "array([[0.1458722, 0.1872234, 0.139474 , 0.1818544, 0.345576 ]])"
      ]
     },
     "execution_count": 12,
     "metadata": {},
     "output_type": "execute_result"
    }
   ],
   "source": [
    "#after 2 days\n",
    "matrix_F=matrix_D\n",
    "for i in range(2):\n",
    "  matrix_F=np.dot(matrix_F,matrix_E)\n",
    "matrix_F"
   ]
  },
  {
   "cell_type": "code",
   "execution_count": 13,
   "metadata": {
    "colab": {
     "base_uri": "https://localhost:8080/"
    },
    "id": "XK1BuIJdT4M5",
    "outputId": "3500ce3f-3339-4361-8d49-31d83b63faf1"
   },
   "outputs": [
    {
     "data": {
      "text/plain": [
       "array([[8.97378472e-28, 1.13004326e-27, 6.60595331e-01, 3.39404669e-01,\n",
       "        2.87688168e-27]])"
      ]
     },
     "execution_count": 13,
     "metadata": {},
     "output_type": "execute_result"
    }
   ],
   "source": [
    "\n",
    "matrix_F=matrix_D\n",
    "for i in range(1000):\n",
    "  matrix_F=np.dot(matrix_F,matrix_E)\n",
    "matrix_F"
   ]
  },
  {
   "cell_type": "code",
   "execution_count": 14,
   "metadata": {
    "colab": {
     "base_uri": "https://localhost:8080/"
    },
    "id": "eRHTcjOWT4M6",
    "outputId": "69cb3eda-89ae-46fb-ea99-7b8da1baf067"
   },
   "outputs": [
    {
     "data": {
      "text/plain": [
       "array([[8.44851901e-28, 1.06389804e-27, 6.60595331e-01, 3.39404669e-01,\n",
       "        2.70848815e-27]])"
      ]
     },
     "execution_count": 14,
     "metadata": {},
     "output_type": "execute_result"
    }
   ],
   "source": [
    "\n",
    "matrix_F=matrix_D\n",
    "for i in range(1001):\n",
    "  matrix_F=np.dot(matrix_F,matrix_E)\n",
    "matrix_F"
   ]
  },
  {
   "cell_type": "code",
   "execution_count": 15,
   "metadata": {
    "id": "QQ9IleUyYfVX"
   },
   "outputs": [],
   "source": [
    "#4)\n",
    "a=np.array([[ 0 , 1 , 2 , 3]\n",
    "  ,[ 4 , 5 , 6 , 7]\n",
    " ,  [ 8,  9, 10, 11]]\n",
    ")"
   ]
  },
  {
   "cell_type": "code",
   "execution_count": 16,
   "metadata": {
    "colab": {
     "base_uri": "https://localhost:8080/"
    },
    "id": "4EyCfp1hYxbi",
    "outputId": "f137d49a-e8c3-47b2-bad1-cf5ccf0fc4a1"
   },
   "outputs": [
    {
     "data": {
      "text/plain": [
       "array([[0.1925, 0.2467, 0.1143, 0.169 , 0.2775]])"
      ]
     },
     "execution_count": 16,
     "metadata": {},
     "output_type": "execute_result"
    }
   ],
   "source": [
    "matrix_D = np.array([[0.3, 0.4, 0.1, 0.15, 0.05]])\n",
    "\n",
    "matrix_E=np.array([\n",
    "    [0.002, 0.666, 0.01, 0.020, 0.302],\n",
    "    [0.466, 0.102, 0.02, 0.032, 0.38],\n",
    "    [0.0, 0.0, 1, 0.0, 0.0],\n",
    "    [0, 0, 0, 1, 0],\n",
    "    [0.11, 0.122, 0.066, 0.004, 0.698]\n",
    "])\n",
    "\n",
    "matrix_F = matrix_D @ matrix_E \n",
    "matrix_F\n",
    "\n"
   ]
  },
  {
   "cell_type": "markdown",
   "metadata": {
    "id": "_7ePHHCfsCJU"
   },
   "source": [
    "**PROBLEM 3**"
   ]
  },
  {
   "cell_type": "code",
   "execution_count": 17,
   "metadata": {
    "id": "pb6mAReaYxYI"
   },
   "outputs": [],
   "source": [
    "#With Santiago\n",
    "p_amy = np.array([\n",
    "    [0.002, 0.232, 0.31, 0.434, 0.022],\n",
    "    [0.426, 0.102, 0.222, 0.04, 0.21],\n",
    "    [0.03, 0.11, 0.20, 0.294, 0.366],\n",
    "    [0.003, 0.176, 0.321, 0.3, 0.2],\n",
    "    [0.11, 0.422, 0.166, 0.1, 0.202]\n",
    "])\n",
    "\n",
    "# Without Santiago\n",
    "p_without_amy = np.array([\n",
    "    [0.11, 0.222, 0.092, 0.374, 0.202],\n",
    "    [0.03, 0.11, 0.20, 0.294, 0.366],\n",
    "    [0.002, 0.232, 0.31, 0.434, 0.022],\n",
    "    [0.466, 0.102, 0.02, 0.032, 0.38],\n",
    "    [0.003, 0.176, 0.321, 0.3, 0.2]\n",
    "])\n",
    "\n",
    "\n",
    "# encoding the initial probability of as a numpy array\n",
    "p_b = np.array([[0.3, 0.4, 0.1, 0.15, 0.05]])\n",
    "\n"
   ]
  },
  {
   "cell_type": "code",
   "execution_count": 18,
   "metadata": {
    "colab": {
     "base_uri": "https://localhost:8080/"
    },
    "id": "qazPk3bEsYDJ",
    "outputId": "64aac64b-9f26-4c32-9a95-5f7058465b68"
   },
   "outputs": [
    {
     "data": {
      "text/plain": [
       "array([[0.17995, 0.1689 , 0.25825, 0.2256 , 0.1673 ]])"
      ]
     },
     "execution_count": 18,
     "metadata": {},
     "output_type": "execute_result"
    }
   ],
   "source": [
    "p_c=p_b@p_amy\n",
    "p_c"
   ]
  },
  {
   "cell_type": "code",
   "execution_count": 19,
   "metadata": {
    "colab": {
     "base_uri": "https://localhost:8080/"
    },
    "id": "kiNuiGbFslAh",
    "outputId": "1f9189d5-37e6-494f-eaa2-630d9daedb60"
   },
   "outputs": [
    {
     "data": {
      "text/plain": [
       "array([[0.11525, 0.1579 , 0.15765, 0.293  , 0.2762 ]])"
      ]
     },
     "execution_count": 19,
     "metadata": {},
     "output_type": "execute_result"
    }
   ],
   "source": [
    "p_c=p_b@p_without_amy\n",
    "p_c"
   ]
  }
 ],
 "metadata": {
  "colab": {
   "provenance": []
  },
  "kernelspec": {
   "display_name": "Python 3.9.2 64-bit",
   "language": "python",
   "name": "python3"
  },
  "language_info": {
   "codemirror_mode": {
    "name": "ipython",
    "version": 3
   },
   "file_extension": ".py",
   "mimetype": "text/x-python",
   "name": "python",
   "nbconvert_exporter": "python",
   "pygments_lexer": "ipython3",
   "version": "3.9.2"
  },
  "vscode": {
   "interpreter": {
    "hash": "21c038ad483dd102bbcd75a209ff5529708eb377a18e36379d96c6d328bc61f4"
   }
  }
 },
 "nbformat": 4,
 "nbformat_minor": 1
}
