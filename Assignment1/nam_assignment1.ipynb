{
  "nbformat": 4,
  "nbformat_minor": 0,
  "metadata": {
    "colab": {
      "provenance": [],
      "include_colab_link": true
    },
    "kernelspec": {
      "name": "python3",
      "display_name": "Python 3"
    },
    "language_info": {
      "name": "python"
    }
  },
  "cells": [
    {
      "cell_type": "markdown",
      "metadata": {
        "id": "view-in-github",
        "colab_type": "text"
      },
      "source": [
        "<a href=\"https://colab.research.google.com/github/reshmipradeep/DA-Assignments/blob/main/Assignment1/nam_assignment1.ipynb\" target=\"_parent\"><img src=\"https://colab.research.google.com/assets/colab-badge.svg\" alt=\"Open In Colab\"/></a>"
      ]
    },
    {
      "cell_type": "code",
      "execution_count": 1,
      "metadata": {
        "id": "YtH2BIKTjvR0",
        "colab": {
          "base_uri": "https://localhost:8080/"
        },
        "outputId": "7a93a77c-fb14-4f59-847e-23fdeb58143e"
      },
      "outputs": [
        {
          "output_type": "stream",
          "name": "stdout",
          "text": [
            "Cloning into 'NAM_assignments'...\n",
            "remote: Enumerating objects: 4, done.\u001b[K\n",
            "remote: Counting objects: 100% (4/4), done.\u001b[K\n",
            "remote: Compressing objects: 100% (2/2), done.\u001b[K\n",
            "remote: Total 4 (delta 0), reused 4 (delta 0), pack-reused 0\u001b[K\n",
            "Unpacking objects: 100% (4/4), 193.92 KiB | 936.00 KiB/s, done.\n"
          ]
        }
      ],
      "source": [
        "!git clone https://github.com/reshmipradeep/NAM_assignments"
      ]
    },
    {
      "cell_type": "code",
      "source": [
        "cd /content/NAM_assignments/Assignment1"
      ],
      "metadata": {
        "colab": {
          "base_uri": "https://localhost:8080/"
        },
        "id": "Uptl2Phl0gFt",
        "outputId": "b870caf0-69b1-4df1-b082-8aaa74c996cd"
      },
      "execution_count": 9,
      "outputs": [
        {
          "output_type": "stream",
          "name": "stdout",
          "text": [
            "/content/NAM_assignments/Assignment1\n"
          ]
        }
      ]
    },
    {
      "cell_type": "code",
      "source": [
        "!git add nam_assignment1.ipynb\n",
        "!git commit -m \"Added <notebook-filename>\"\n",
        "!git push origin master"
      ],
      "metadata": {
        "id": "MM-JH2u1peUC",
        "colab": {
          "base_uri": "https://localhost:8080/"
        },
        "outputId": "792a9aae-5f68-422b-9dc9-d54a512fe0c4"
      },
      "execution_count": 10,
      "outputs": [
        {
          "output_type": "stream",
          "name": "stdout",
          "text": [
            "fatal: pathspec 'nam_assignment1.ipynb' did not match any files\n",
            "\n",
            "*** Please tell me who you are.\n",
            "\n",
            "Run\n",
            "\n",
            "  git config --global user.email \"you@example.com\"\n",
            "  git config --global user.name \"Your Name\"\n",
            "\n",
            "to set your account's default identity.\n",
            "Omit --global to set the identity only in this repository.\n",
            "\n",
            "fatal: unable to auto-detect email address (got 'root@656a7258dac2.(none)')\n",
            "error: src refspec master does not match any\n",
            "\u001b[31merror: failed to push some refs to 'https://github.com/reshmipradeep/NAM_assignments'\n",
            "\u001b[m"
          ]
        }
      ]
    }
  ]
}